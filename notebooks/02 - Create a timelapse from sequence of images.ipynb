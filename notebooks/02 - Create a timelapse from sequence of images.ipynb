{
 "cells": [
  {
   "cell_type": "code",
   "execution_count": 1,
   "metadata": {},
   "outputs": [],
   "source": [
    "import os, numpy, PIL\n",
    "from PIL import Image\n",
    "import datetime\n",
    "import time\n",
    "import cv2\n",
    "import os"
   ]
  },
  {
   "cell_type": "code",
   "execution_count": 2,
   "metadata": {},
   "outputs": [],
   "source": [
    "import warnings\n",
    "warnings.filterwarnings(\"ignore\")"
   ]
  },
  {
   "cell_type": "code",
   "execution_count": 3,
   "metadata": {},
   "outputs": [],
   "source": [
    "def create_video (ip_dir, op_dir, res, frame_rate=24, ext='.jpg'):\n",
    "    \n",
    "    width, height = res\n",
    "    \n",
    "    splt = ip_dir.split('/')\n",
    "    sub_dir = splt[len(splt)-1]\n",
    "    op_file = os.path.join(op_dir, sub_dir+'_'+str(width)+'x'+str(height)+'.avi')\n",
    "    \n",
    "    print('Output Video: ', op_file)\n",
    "    \n",
    "    images = [img for img in os.listdir(ip_dir) if img.endswith(ext)]\n",
    "    images.sort()\n",
    "    \n",
    "    if (len(images) == 0):\n",
    "        print('No images found with extension ' + ext)\n",
    "        return\n",
    "\n",
    "    # frame = cv2.imread(os.path.join(ip_dir, images[0]))\n",
    "    # height, width, layers = frame.shape\n",
    "    \n",
    "    video = cv2.VideoWriter(op_file, 0, frame_rate, res)\n",
    "\n",
    "    temp_file = 'temp.jpg'\n",
    "\n",
    "    count = 0\n",
    "    for image in images:\n",
    "\n",
    "        image = os.path.join(ip_dir, image)\n",
    "\n",
    "        im = Image.open(image)\n",
    "        im_resized = im.resize(res, Image.ANTIALIAS)\n",
    "        im_resized.save(temp_file)\n",
    "\n",
    "        video.write(cv2.imread(temp_file))\n",
    "\n",
    "        count += 1\n",
    "        print('Frames ('+str(count)+'/'+str(len(images))+')', end='\\r')\n",
    "\n",
    "    os.remove(temp_file)\n",
    "\n",
    "    cv2.destroyAllWindows()\n",
    "    video.release()"
   ]
  },
  {
   "cell_type": "code",
   "execution_count": null,
   "metadata": {},
   "outputs": [],
   "source": []
  },
  {
   "cell_type": "code",
   "execution_count": 4,
   "metadata": {},
   "outputs": [
    {
     "name": "stdout",
     "output_type": "stream",
     "text": [
      "2020-05-14 - YEG Balcony Turtle Garden (TL) E : Output Video:  /Users/talat/Pictures/_Photos/Video/2020-05-14 - YEG Balcony Turtle Garden (TL) E_1920x1080.avi\n"
     ]
    }
   ],
   "source": [
    "INPUT_DIR = '/Users/talat/Pictures/_Photos/longexp/'\n",
    "OUTPUT_DIR = '/Users/talat/Pictures/_Photos/Video/'\n",
    "\n",
    "res_hd = (1920, 1080)\n",
    "res_4k = (3840, 2160)\n",
    "res = res_hd\n",
    "\n",
    "frame_rate = 24\n",
    "ext = '.jpg'\n",
    "\n",
    "sub_dir_list = [f for f in os.listdir(INPUT_DIR) if os.path.isdir(os.path.join(INPUT_DIR,f))]\n",
    "sub_dir_list.sort()\n",
    "\n",
    "for sub_dir in sub_dir_list:\n",
    "    \n",
    "    ip_dir = os.path.join(INPUT_DIR, sub_dir)\n",
    "    op_dir = OUTPUT_DIR\n",
    "    \n",
    "    print(sub_dir, end=' : ')\n",
    "    \n",
    "    create_video(ip_dir, op_dir, res, frame_rate, ext)"
   ]
  },
  {
   "cell_type": "code",
   "execution_count": null,
   "metadata": {},
   "outputs": [],
   "source": []
  }
 ],
 "metadata": {
  "kernelspec": {
   "display_name": "long_exposures",
   "language": "python",
   "name": "long_exposures"
  },
  "language_info": {
   "codemirror_mode": {
    "name": "ipython",
    "version": 3
   },
   "file_extension": ".py",
   "mimetype": "text/x-python",
   "name": "python",
   "nbconvert_exporter": "python",
   "pygments_lexer": "ipython3",
   "version": "3.5.5"
  }
 },
 "nbformat": 4,
 "nbformat_minor": 4
}
